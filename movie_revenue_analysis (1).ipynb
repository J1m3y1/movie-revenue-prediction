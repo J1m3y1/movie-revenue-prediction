{
 "cells": [
  {
   "cell_type": "markdown",
   "id": "06795659-7458-43ee-a2f4-989b4c1fe43d",
   "metadata": {},
   "source": [
    "# Movie Revenue Prediction \n",
    "The requirements.txt file includes every pip install and dataset needed to run the code.\n",
    "\n",
    "The dataset includes ~1,274,092 movies which icludes blockbusters like \"The GodFather\" and \"Spider-Man: Across the Spider-Verse\". \n",
    "The dataset includes 24 potential features to choose from. The total CSV memory is ~500mb."
   ]
  },
  {
   "cell_type": "code",
   "execution_count": 8,
   "id": "46c86007-90f2-4c96-91f1-660577f6a3e6",
   "metadata": {
    "panel-layout": {
     "height": 0,
     "visible": true,
     "width": 100
    }
   },
   "outputs": [
    {
     "name": "stdout",
     "output_type": "stream",
     "text": [
      "Potential Features: id, title, vote_average, vote_count, status, release_date, revenue, runtime, adult, backdrop_path, budget, homepage, imdb_id, original_language, original_title, overview, popularity, poster_path, tagline, genres, production_companies, production_countries, spoken_languages, keywords\n"
     ]
    }
   ],
   "source": [
    "import pandas as pd\n",
    "# Read the CSV into df\n",
    "df = pd.read_csv(\"C:/Users/homec/Downloads/TMDB_movie_dataset_v11.csv\")\n",
    "\n",
    "#Print first row\n",
    "print(\"Potential Features:\", \", \".join(df.columns))"
   ]
  },
  {
   "cell_type": "markdown",
   "id": "8d2e5883-464e-4bbd-84ce-a72759baa34d",
   "metadata": {},
   "source": [
    "Many of the potential features like \"tagline, adult, and homepage\" won't impact the results so we need to pick out our features. Filters to the features were needed to remove non-released movies."
   ]
  },
  {
   "cell_type": "code",
   "execution_count": 9,
   "id": "cdf1de1e-5ae8-45f6-bd34-74763ea3757f",
   "metadata": {},
   "outputs": [],
   "source": [
    "df = df[~(\n",
    "    (df['vote_average'] == 0) |\n",
    "    (df['vote_count'] <= 50) |\n",
    "    (df['runtime'] <= 60) |\n",
    "    (df['budget'] <= 100_000) |\n",
    "    (df['revenue'] <= 1_000_000))]"
   ]
  },
  {
   "cell_type": "markdown",
   "id": "6d9d8ad3-435f-4da5-b578-9896ee8370c7",
   "metadata": {},
   "source": [
    "After filtering out many movies the features selected were vote_average, vote_count, runtime, budget, and popularity. Revenue was selected as the label of the model."
   ]
  },
  {
   "cell_type": "code",
   "execution_count": 10,
   "id": "86cddc44-6b4c-4de2-b7b1-8a59e17b96e8",
   "metadata": {},
   "outputs": [],
   "source": [
    "y = df['revenue']\n",
    "features = ['vote_average', 'runtime', 'budget', 'popularity', 'vote_count']\n",
    "X = df[features].copy()"
   ]
  },
  {
   "cell_type": "markdown",
   "id": "7c17e2b2-7279-4c71-a404-7d552a9d8ba1",
   "metadata": {},
   "source": [
    "The first regression type tested was linear regression. There was high skewness in budget, popularity, and vote_count so log transform was applied to these features to improve results.  A 80/20 test split was choosen. "
   ]
  },
  {
   "cell_type": "code",
   "execution_count": 11,
   "id": "8d38925e-6491-4904-8592-b38b34a41894",
   "metadata": {},
   "outputs": [],
   "source": [
    "import numpy as np\n",
    "from sklearn.model_selection import train_test_split\n",
    "\n",
    "#Log Transform Features\n",
    "X['budget_log'] = np.log1p(X['budget'])\n",
    "X['popularity_log'] = np.log1p(X['popularity'])\n",
    "X['vote_count_log'] = np.log1p(X['vote_count'])\n",
    "\n",
    "# Clean feature set for modeling\n",
    "X_clean = X[['vote_average', 'runtime', 'budget_log', 'popularity_log', 'vote_count_log']].copy()\n",
    "\n",
    "X_train, X_test, y_train, y_test = train_test_split(X_clean, y, test_size=.2, random_state=42)"
   ]
  },
  {
   "cell_type": "markdown",
   "id": "ac799ef0-23f1-4fd5-9551-73bb633d227e",
   "metadata": {},
   "source": [
    "Before initalizing and training the linear regression model we need to log transform the label. Then predict."
   ]
  },
  {
   "cell_type": "code",
   "execution_count": 12,
   "id": "5be72029-69e1-42d7-b74e-8239fbdb33f5",
   "metadata": {},
   "outputs": [],
   "source": [
    "from sklearn.linear_model import LinearRegression\n",
    "\n",
    "# Log-transform label\n",
    "y_train_log = np.log1p(y_train)\n",
    "y_test_log = np.log1p(y_test)\n",
    "\n",
    "# Initialize and train Linear Regression\n",
    "mod_lr = LinearRegression()\n",
    "mod_lr.fit(X_train, y_train_log)\n",
    "\n",
    "# Predict\n",
    "y_pred_log = mod_lr.predict(X_test)\n",
    "y_pred = np.expm1(y_pred_log)"
   ]
  },
  {
   "cell_type": "markdown",
   "id": "43822e03-6f32-4cdc-89af-f5116311e1d1",
   "metadata": {},
   "source": [
    "Print out R2 and RMSE for Linear Regression Model."
   ]
  },
  {
   "cell_type": "code",
   "execution_count": 13,
   "id": "59cfc576-f37c-4d00-ae34-33db2103bcd8",
   "metadata": {},
   "outputs": [
    {
     "name": "stdout",
     "output_type": "stream",
     "text": [
      "Linear Regression Results:\n",
      "RMSE: 126650041.62886065\n",
      "R²: 0.5953066961687756\n",
      "Log-space RMSE: 0.962649013610991\n",
      "Log-space R²: 0.6324744994504836\n",
      "\n",
      "Predictions (first 5 rows):\n",
      "   Actual Revenue (M$)  Predicted Revenue (M$)\n",
      "0           542.307423              295.063999\n",
      "1            28.700000               15.675173\n",
      "2           179.769467              101.667445\n",
      "3             6.073724                4.370897\n",
      "4           788.976453              397.361189\n",
      "\n",
      "Log-space Predictions (first 5 rows):\n",
      "   Actual Log-Revenue  Predicted Log-Revenue\n",
      "0           20.111344              19.502703\n",
      "1           17.172408              16.567589\n",
      "2           19.007186              18.437218\n",
      "3           15.619483              15.290479\n",
      "4           20.486247              19.800356\n"
     ]
    }
   ],
   "source": [
    "from sklearn.metrics import mean_squared_error, r2_score\n",
    "\n",
    "rmse = np.sqrt(mean_squared_error(y_test, y_pred))\n",
    "r2 = r2_score(y_test, y_pred)\n",
    "rmse_log = np.sqrt(mean_squared_error(y_test_log, y_pred_log))\n",
    "r2_log = r2_score(y_test_log, y_pred_log)\n",
    "\n",
    "#Print Stats for \n",
    "print(\"Linear Regression Results:\")\n",
    "\n",
    "print(\"RMSE:\", rmse)\n",
    "print(\"R²:\", r2)\n",
    "\n",
    "print(\"Log-space RMSE:\", rmse_log)\n",
    "print(\"Log-space R²:\", r2_log)\n",
    "\n",
    "# Predictions DataFrame\n",
    "predictions_df = pd.DataFrame({\n",
    "    'Actual Revenue (M$)': y_test.values / 1e6,\n",
    "    'Predicted Revenue (M$)': y_pred / 1e6\n",
    "})\n",
    "\n",
    "predictions_log_df = pd.DataFrame({\n",
    "    'Actual Log-Revenue': y_test_log.values,\n",
    "    'Predicted Log-Revenue': y_pred_log\n",
    "})\n",
    "\n",
    "print(\"\\nPredictions (first 5 rows):\")\n",
    "print(predictions_df.head())\n",
    "print(\"\\nLog-space Predictions (first 5 rows):\")\n",
    "print(predictions_log_df.head())\n"
   ]
  },
  {
   "cell_type": "markdown",
   "id": "93b9cadd-3ad3-4117-be03-16d414d4ee9b",
   "metadata": {},
   "source": [
    "The linear regression model explains ~60% variance in movie revenue(R2 = .5953). Revenue predictions on average were off by 126.6M, which was heavily skewed by blockbusters with high earning. However the log space showed better results with ~63% variance in movie revenue with a RMSE of ~.9626 which is 2.6x off the actual revenue (R2 = .6325). "
   ]
  },
  {
   "cell_type": "markdown",
   "id": "203e07d5-4cca-4e39-a908-92ac44608ba1",
   "metadata": {},
   "source": [
    "While the model preformed moderately well, tree-based models handle skew and non-linear relationship naturally. So I went with a RTR (Random Tree Regression) model to improve the results. Since RTR models handle skew, there is no need for log transforming certain features. "
   ]
  },
  {
   "cell_type": "code",
   "execution_count": 14,
   "id": "5310381b-3a42-46df-8270-b49bc51c5bb3",
   "metadata": {},
   "outputs": [],
   "source": [
    "from sklearn.ensemble import RandomForestRegressor\n",
    "\n",
    "# Create a 80/20 split\n",
    "X_train, X_test, y_train, y_test = train_test_split(X, y, test_size=.2, random_state=42)\n",
    "\n",
    "#Initalize RFR model\n",
    "mod = RandomForestRegressor(\n",
    "    n_estimators= 500,\n",
    "    max_depth=25,\n",
    "    min_samples_split=5,\n",
    "    min_samples_leaf=2,\n",
    "    random_state=42\n",
    ")\n",
    "\n",
    "#Log Transform Target (Revenue)\n",
    "y_train_log = np.log1p(y_train)\n",
    "y_test_log = np.log1p(y_test)\n",
    "\n",
    "#Train the model\n",
    "mod.fit(X_train, y_train_log)\n",
    "\n",
    "#Predict and inverse log-transform\n",
    "y_pred = np.expm1(mod.predict(X_test))\n",
    "y_pred_log = mod.predict(X_test)"
   ]
  },
  {
   "cell_type": "markdown",
   "id": "9ab56329-d868-4fc0-8ed1-6c7c9cf7a9a7",
   "metadata": {},
   "source": [
    "Now print the results and compare with Linear Regression model."
   ]
  },
  {
   "cell_type": "code",
   "execution_count": 15,
   "id": "2358dcb7-ca05-49bd-833a-d5c5195f0884",
   "metadata": {},
   "outputs": [
    {
     "name": "stdout",
     "output_type": "stream",
     "text": [
      "RMSE: 105905055.99089682\n",
      "R²: 0.717024567044569\n",
      "Log-space RMSE: 0.9377409342589252\n",
      "Log-space R²: 0.6512475350019482\n",
      "   Actual Log-Revenue  Predicted Log-Revenue\n",
      "0           20.111344              19.574462\n",
      "1           17.172408              16.526928\n",
      "2           19.007186              18.528750\n",
      "3           15.619483              15.478250\n",
      "4           20.486247              20.660888\n",
      "   Actual Revenue (M$)  Predicted Revenue (M$)\n",
      "0           542.307423              317.015843\n",
      "1            28.700000               15.050599\n",
      "2           179.769467              111.412539\n",
      "3             6.073724                5.273740\n",
      "4           788.976453              939.527614\n"
     ]
    }
   ],
   "source": [
    "rmse = np.sqrt(mean_squared_error(y_test, y_pred))\n",
    "r2 = r2_score(y_test, y_pred)\n",
    "print(\"RMSE:\", rmse)\n",
    "print(\"R²:\", r2)\n",
    "\n",
    "rmse_log = np.sqrt(mean_squared_error(y_test_log, y_pred_log))\n",
    "r2_log = r2_score(y_test_log, y_pred_log)\n",
    "print(\"Log-space RMSE:\", rmse_log)\n",
    "print(\"Log-space R²:\", r2_log)\n",
    "\n",
    "predictions_df = pd.DataFrame({\n",
    "    'Actual Revenue (M$)': y_test.values / 1e6,\n",
    "    'Predicted Revenue (M$)': y_pred / 1e6\n",
    "})\n",
    "\n",
    "predictions_log_df = pd.DataFrame({\n",
    "    'Actual Log-Revenue': y_test_log.values,\n",
    "    'Predicted Log-Revenue': y_pred_log\n",
    "})\n",
    "print(predictions_log_df.head())\n",
    "print(predictions_df.head())\n"
   ]
  },
  {
   "cell_type": "markdown",
   "id": "bfb237a7-11da-4cf9-aa90-81762dda8fe5",
   "metadata": {},
   "source": [
    "The Random Forest Regression model explains ~72% variance in movie revenue which is a major improvement from the Linear Regression model(R2 = .7170). Revenue predictions on average were off by 105.9M, skewness of block busters had less of an impact due to RFR capabilaties. However the log space showed worse results with ~65% variance in movie revenue with a RMSE of ~.9377 which  is 2.6x off the actual revenue (R2 = .6325). "
   ]
  }
 ],
 "metadata": {
  "kernelspec": {
   "display_name": "Python 3 (ipykernel)",
   "language": "python",
   "name": "python3"
  },
  "language_info": {
   "codemirror_mode": {
    "name": "ipython",
    "version": 3
   },
   "file_extension": ".py",
   "mimetype": "text/x-python",
   "name": "python",
   "nbconvert_exporter": "python",
   "pygments_lexer": "ipython3",
   "version": "3.13.5"
  },
  "panel-cell-order": [
   "a04fa75a-d8c5-424f-b58d-edd2db948e7d"
  ]
 },
 "nbformat": 4,
 "nbformat_minor": 5
}
