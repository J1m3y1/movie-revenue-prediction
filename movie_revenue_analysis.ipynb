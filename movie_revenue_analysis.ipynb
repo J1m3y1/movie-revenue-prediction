{
 "cells": [
  {
   "cell_type": "markdown",
   "id": "104ccd07-17d9-4d9b-96c8-bd82bf2dbac8",
   "metadata": {},
   "source": [
    "# Movie Revenue Prediction \n",
    "The requirements.txt file includes every pip install and dataset needed to run the code.\n",
    "\n",
    "The dataset includes ~1,274,092 movies which icludes blockbusters like \"The GodFather\" and \"Spider-Man: Across the Spider-Verse\". \n",
    "The dataset includes 24 potential features to choose from. The total CSV memory is ~500mb."
   ]
  },
  {
   "cell_type": "code",
   "execution_count": 4,
   "id": "46c86007-90f2-4c96-91f1-660577f6a3e6",
   "metadata": {
    "panel-layout": {
     "height": 0,
     "visible": true,
     "width": 100
    }
   },
   "outputs": [
    {
     "name": "stdout",
     "output_type": "stream",
     "text": [
      "Potential Features: id, title, vote_average, vote_count, status, release_date, revenue, runtime, adult, backdrop_path, budget, homepage, imdb_id, original_language, original_title, overview, popularity, poster_path, tagline, genres, production_companies, production_countries, spoken_languages, keywords\n"
     ]
    }
   ],
   "source": [
    "import pandas as pd\n",
    "# Read the CSV into df\n",
    "df = pd.read_csv(\"C:/Users/homec/Downloads/TMDB_movie_dataset_v11.csv\")\n",
    "\n",
    "#Print first row\n",
    "print(\"Potential Features:\", \", \".join(df.columns))"
   ]
  },
  {
   "cell_type": "markdown",
   "id": "3376d19b-8274-4c84-a6f7-0425b4132dca",
   "metadata": {},
   "source": [
    "Potential Features: id, title, vote_average, vote_count, status, release_date, revenue, runtime, adult, backdrop_path, budget, homepage, imdb_id, \n",
    "original_language, original_title, overview, popularity, poster_path, tagline, genres, production_companies, production_countries, \n",
    "spoken_languages, keywords"
   ]
  },
  {
   "cell_type": "markdown",
   "id": "8d2e5883-464e-4bbd-84ce-a72759baa34d",
   "metadata": {},
   "source": [
    "Many of the potential features like \"tagline, adult, and homepage\" won't impact the results so we need to pick out our features. Filters to the features were needed to remove non-released movies."
   ]
  },
  {
   "cell_type": "code",
   "execution_count": null,
   "id": "cdf1de1e-5ae8-45f6-bd34-74763ea3757f",
   "metadata": {},
   "outputs": [],
   "source": [
    "df = df[~(\n",
    "    (df['vote_average'] == 0) |\n",
    "    (df['vote_count'] <= 50) |\n",
    "    (df['runtime'] <= 60) |\n",
    "    (df['budget'] <= 100_000) |\n",
    "    (df['revenue'] <= 1_000_000))]"
   ]
  },
  {
   "cell_type": "markdown",
   "id": "9adcf1db-c78a-4b59-9974-fe238ba5f79c",
   "metadata": {},
   "source": [
    "After filtering out many movies the features selected were vote_average, vote_count, runtime, budget, and popularity. A 80/20 test split was choosen."
   ]
  },
  {
   "cell_type": "code",
   "execution_count": null,
   "id": "74fcf21d-407b-4d17-adb5-8095d6080b7e",
   "metadata": {},
   "outputs": [],
   "source": [
    "X_train, X_test, y_train, y_test = train_test_split(X_clean, y, test_size=.2, random_state=42)"
   ]
  },
  {
   "cell_type": "markdown",
   "id": "27da79c9-2ee5-47b0-bfc9-efb98374fcb6",
   "metadata": {},
   "source": []
  }
 ],
 "metadata": {
  "kernelspec": {
   "display_name": "Python 3 (ipykernel)",
   "language": "python",
   "name": "python3"
  },
  "language_info": {
   "codemirror_mode": {
    "name": "ipython",
    "version": 3
   },
   "file_extension": ".py",
   "mimetype": "text/x-python",
   "name": "python",
   "nbconvert_exporter": "python",
   "pygments_lexer": "ipython3",
   "version": "3.13.5"
  },
  "panel-cell-order": [
   "a04fa75a-d8c5-424f-b58d-edd2db948e7d"
  ]
 },
 "nbformat": 4,
 "nbformat_minor": 5
}
